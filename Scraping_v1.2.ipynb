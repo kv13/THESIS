{
 "cells": [
  {
   "cell_type": "code",
   "execution_count": 92,
   "metadata": {},
   "outputs": [],
   "source": [
    "#import libraries\n",
    "import os\n",
    "import re\n",
    "import bs4\n",
    "import csv\n",
    "import time\n",
    "import requests\n",
    "import json, codecs\n",
    "from pprint import pprint\n",
    "from github import Github\n",
    "from bs4 import BeautifulSoup"
   ]
  },
  {
   "cell_type": "code",
   "execution_count": 93,
   "metadata": {},
   "outputs": [],
   "source": [
    "def write_json(page_objects):\n",
    "    with open('data1.json','a') as f:\n",
    "        json.dump(page_objects,f)"
   ]
  },
  {
   "cell_type": "code",
   "execution_count": 94,
   "metadata": {},
   "outputs": [],
   "source": [
    "#define functions \n",
    "def find_tags(tags,each_issue):\n",
    "    \n",
    "    for counter,temp in enumerate(each.find_all('a')):\n",
    "        tag = str(temp.string)\n",
    "        tags.append(tag)"
   ]
  },
  {
   "cell_type": "code",
   "execution_count": 95,
   "metadata": {},
   "outputs": [],
   "source": [
    "#maybe embody it in the find desc function to reduce iterations.\n",
    "def remove_special_ch(text):\n",
    "    \n",
    "    for i in range(0,len(text)):\n",
    "        text[i] = text[i].replace('\\n','')\n",
    "        text[i] = text[i].replace('\\t','')\n",
    "        text[i] = re.sub(r\"<.*?>\",\"\",text[i])\n",
    "        #maybe better solution is <[^<>]+> matches any character except < or > \n",
    "        #one or more times included inside < and > "
   ]
  },
  {
   "cell_type": "code",
   "execution_count": 96,
   "metadata": {},
   "outputs": [],
   "source": [
    "def find_desc(each,base_url,description,stack_trace):\n",
    "    \n",
    "    next_url     = base_url+each.find('a')['href']\n",
    "    response     = requests.get(next_url)\n",
    "    html_content = response.content\n",
    "    dom          = BeautifulSoup(html_content,'html.parser')\n",
    "    temp         = dom.find('div',class_ = 'edit-comment-hide')\n",
    "    temp_2       = temp.find('td')\n",
    "    \n",
    "    #find description and the stack trace\n",
    "    calculate_desc(temp_2,description,stack_trace)\n",
    "    \n",
    "    #find the person who closed the issue\n",
    "    who_closed_it = \"none\"\n",
    "    temp_3        = dom.find_all('div',class_='TimelineItem-body') \n",
    "    for i in temp_3:\n",
    "        if i.text.find('closed this')!=-1:\n",
    "            if i.find('a',class_='author Link--primary text-bold') is None:\n",
    "                continue\n",
    "            who_closed_it = i.find('a',class_='author Link--primary text-bold').text\n",
    "    \n",
    "    #remove special characters from the description and stack trace\n",
    "    remove_special_ch(description)\n",
    "    if stack_trace != []:\n",
    "        remove_special_ch(stack_trace)\n",
    "    \n",
    "    return who_closed_it"
   ]
  },
  {
   "cell_type": "code",
   "execution_count": 97,
   "metadata": {},
   "outputs": [],
   "source": [
    "def calculate_desc(html_text,description,stack_trace):\n",
    "    \n",
    "    html_content = html_text.contents\n",
    "    length = len(html_content)\n",
    "    \n",
    "    if length == 1:\n",
    "        #some lines are empty. No need to write them\n",
    "        if html_content[0]!= []:\n",
    "            str_temp = str(html_content[0])\n",
    "            if str_temp.find('java.')!=-1 or str_temp.find('AndroidRuntime:')!=-1:\n",
    "                stack_trace.append(str(html_content[0]))\n",
    "            else:\n",
    "                description.append(str(html_content[0]))\n",
    "    else:\n",
    "        for i in range(length):\n",
    "\n",
    "            if type(html_content[i]) is bs4.element.NavigableString:\n",
    "                #avoid writting empty lines and html tags <br>\n",
    "                if len(html_content[i])>4:\n",
    "                    description.append(str(html_content[i]))\n",
    "            elif type(html_content[i] is bs4.element.Tag):\n",
    "                #call recursively the function till length is 1\n",
    "                calculate_desc(html_content[i],description,stack_trace)\n",
    "                "
   ]
  },
  {
   "cell_type": "code",
   "execution_count": 98,
   "metadata": {},
   "outputs": [],
   "source": [
    "#search all closed issues\n",
    "\n",
    "#define some variables\n",
    "total_issues  = 0\n",
    "total_traces  = 0\n",
    "issues        = []\n",
    "\n",
    "\n",
    "#initialize important url's\n",
    "base_url = \"https://github.com/\"\n",
    "query_url = f\"https://github.com/cgeo/cgeo/issues?page=1&q=is%3Aissue+is%3Aclosed\"\n",
    "#query_url = f\"https://github.com/cgeo/cgeo/issues?page=115&q=is%3Aissue+is%3Aclosed\"\n",
    "\n",
    "#authorization in order to make more requests.\n",
    "token = os.getenv(\"GITHUB_TOKEN\")\n",
    "headers = {'Authorization': f'token {token}'}\n",
    "\n",
    "response = requests.get(query_url, headers = headers)"
   ]
  },
  {
   "cell_type": "code",
   "execution_count": 99,
   "metadata": {},
   "outputs": [
    {
     "name": "stdout",
     "output_type": "stream",
     "text": [
      "1 Default folder for themes should be below maps folder\n",
      "2 Problem posting log\n",
      "3 Active circles not shown on change of map type\n",
      "4 Circle color setup effective only after restart (OSM)\n",
      "5 Failure in LogTemplateProviderTest.testNoNumberIncrement\n",
      "6 c:geo not starting after restore of data\n",
      "7 Crash after renaming theme file\n",
      "8 Stuck on cache refresh/delete\n",
      "9 Include debug logging into SAF procedures\n",
      "10 Perform theme folder sync as background task\n",
      "11 Hide unittest folder selection in Settings - System\n",
      "12 Theme options not working for zipped themes\n",
      "13 Downloaded theme not set as current theme\n",
      "14 Unresponsive/Slow app when buffering themes on SD\n",
      "15 Check on existing final coords before navigation is started\n",
      "16 [Nightly] Syc'ing themes folder to internal storage does not work\n",
      "17 Meaning of string folder_process_status_currentfile\n",
      "18 SAF: Picture attached via Google Fotos gets attached twice\n",
      "19 replace com.yqritc.recyclerviewflexibledivider\n",
      "20 SAF: Behavior of migration wizard if folder selection is aborted\n",
      "21 custom cache icon can only be changed for a whole list\n",
      "22 Crash when trying to attach image\n",
      "23 [Nightly] Save / Refresh Mystery does not work - sometimes\n",
      "24 Question: Offline Log Deletion on Cache Deletion ok?\n",
      "25 Offline find counter [NUMBER] is inaccurate and getting worse\n"
     ]
    }
   ],
   "source": [
    "#loop through all pages\n",
    "\n",
    "while True:\n",
    "    response_code = response.status_code\n",
    "    if response_code != 200:\n",
    "        raise Exception(\"Error Occured\")\n",
    "    else:\n",
    "        html_content = response.content\n",
    "        dom = BeautifulSoup(html_content,'html.parser')\n",
    "        \n",
    "        #find all issues in every page\n",
    "        all = dom.findAll('div', class_='flex-auto min-width-0 p-2 pr-3 pr-md-2')\n",
    "        \n",
    "        page_objects = []\n",
    "        \n",
    "        #real scraping begins\n",
    "        for each in all:\n",
    "            \n",
    "            #find tags and who open the issue\n",
    "            tags=[]\n",
    "            find_tags(tags,each)\n",
    "            \n",
    "            \n",
    "            #find description, stack trace and who closed\n",
    "            description   = []\n",
    "            stack_trace   = []\n",
    "            who_closed_it = find_desc(each,base_url,description,stack_trace)\n",
    "            \n",
    "            total_issues = total_issues+1\n",
    "            if stack_trace !=[]:\n",
    "                total_traces = total_traces +1\n",
    "            \n",
    "            print(total_issues,tags[0])\n",
    "            #print(\"********************\")\n",
    "            #print(description)\n",
    "            #print(\"********************\")\n",
    "            #print(stack_trace)\n",
    "            \n",
    "            #write dictionary\n",
    "            if len(tags)>=1:    \n",
    "                issue_object = {'name':tags[0],'tags':tags[1:len(tags)-1],'opened_by':tags[len(tags)-1],\n",
    "                               'description':description,'stack_trace':stack_trace,'closed_by':who_closed_it}\n",
    "           \n",
    "            page_objects.append(issue_object)\n",
    "            \n",
    "        #combine all issues to a global list\n",
    "        issues.extend(page_objects)\n",
    "        \n",
    "        #debug \n",
    "        if total_issues >=25:\n",
    "            break\n",
    "        ####\n",
    "        \n",
    "        #visit the next page if exists\n",
    "        end = dom.findAll('a',class_='next_page')\n",
    "        \n",
    "        if end ==[]:\n",
    "            break\n",
    "        next_url = base_url+end[1]['href']\n",
    "        response = requests.get(next_url)\n",
    "        \n",
    "        # Sleep for 60 seconds\n",
    "        time.sleep(60)"
   ]
  },
  {
   "cell_type": "code",
   "execution_count": 100,
   "metadata": {},
   "outputs": [
    {
     "name": "stdout",
     "output_type": "stream",
     "text": [
      "4\n",
      "25\n"
     ]
    }
   ],
   "source": [
    "#store all issues\n",
    "write_json(issues)\n",
    "\n",
    "#print some statistics\n",
    "print(total_traces)\n",
    "print(total_issues)"
   ]
  },
  {
   "cell_type": "code",
   "execution_count": 29,
   "metadata": {},
   "outputs": [
    {
     "name": "stdout",
     "output_type": "stream",
     "text": [
      "5888\n"
     ]
    }
   ],
   "source": []
  },
  {
   "cell_type": "code",
   "execution_count": null,
   "metadata": {},
   "outputs": [],
   "source": [
    "#add in scraping extra for finding stack traces in issues    \n",
    "#remove \\n \\t with regular expression etc.                   done\n",
    "\n",
    "#this is last\n",
    "#tokenization the text.\n",
    "#and then create embeddings.\n",
    "\n",
    "#not this onestack traces to graph -> (networkx)\n",
    "#this one for sure !!!stack traces to dictionary             \n",
    "\n",
    "#saturday must have finish them"
   ]
  },
  {
   "cell_type": "code",
   "execution_count": null,
   "metadata": {},
   "outputs": [],
   "source": []
  },
  {
   "cell_type": "code",
   "execution_count": null,
   "metadata": {},
   "outputs": [],
   "source": []
  }
 ],
 "metadata": {
  "kernelspec": {
   "display_name": "Python [conda env:py38] *",
   "language": "python",
   "name": "conda-env-py38-py"
  },
  "language_info": {
   "codemirror_mode": {
    "name": "ipython",
    "version": 3
   },
   "file_extension": ".py",
   "mimetype": "text/x-python",
   "name": "python",
   "nbconvert_exporter": "python",
   "pygments_lexer": "ipython3",
   "version": "3.8.5"
  }
 },
 "nbformat": 4,
 "nbformat_minor": 4
}
