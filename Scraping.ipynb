{
 "cells": [
  {
   "cell_type": "code",
   "execution_count": 72,
   "metadata": {},
   "outputs": [],
   "source": [
    "#import libraries\n",
    "import os\n",
    "import csv\n",
    "import requests\n",
    "from pprint import pprint\n",
    "from github import Github\n",
    "from bs4 import BeautifulSoup"
   ]
  },
  {
   "cell_type": "code",
   "execution_count": 77,
   "metadata": {},
   "outputs": [],
   "source": [
    "#write to csv file function\n",
    "def write_page_to_file(page_tags):\n",
    "    file = open('data.csv','a+',newline='')\n",
    "    with file:\n",
    "        write = csv.writer(file,delimiter=',')\n",
    "        write.writerows(page_tags)"
   ]
  },
  {
   "cell_type": "code",
   "execution_count": 78,
   "metadata": {},
   "outputs": [],
   "source": [
    "#find stack traces function\n",
    "def find_stack_trace(url, tags):\n",
    "    response_bug = requests.get(next_url)\n",
    "    html_content_bug = response_bug.content\n",
    "    dom_bug = BeautifulSoup(html_content_bug,'html.parser')\n",
    "    temp = dom_bug.find('pre')\n",
    "    if(temp != [] and temp !=None):\n",
    "        if(temp.find('code')!=None):\n",
    "            tags.append(str(temp.find('code')))"
   ]
  },
  {
   "cell_type": "code",
   "execution_count": 79,
   "metadata": {},
   "outputs": [],
   "source": [
    "#search all closed issues.\n",
    "\n",
    "#initialize important url's\n",
    "base_url = \"https://github.com/\"\n",
    "query_url = f\"https://github.com/cgeo/cgeo/issues?page=1&q=is%3Aissue+is%3Aclosed\"\n",
    "\n",
    "#authorization in order to make more requests.\n",
    "token = os.getenv(\"GITHUB_TOKEN\")\n",
    "headers = {'Authorization': f'token {token}'}\n",
    "\n",
    "#make initial request\n",
    "response = requests.get(query_url, headers = headers)\n"
   ]
  },
  {
   "cell_type": "code",
   "execution_count": 80,
   "metadata": {},
   "outputs": [],
   "source": [
    "#loop through all pages\n",
    "while True:\n",
    "    response_code = response.status_code\n",
    "    if response_code != 200:\n",
    "        print(\"Error Occured\")\n",
    "        exit()\n",
    "    else:\n",
    "        html_content = response.content\n",
    "        dom = BeautifulSoup(html_content,'html.parser')\n",
    "        \n",
    "        #find all issues in every page\n",
    "        all = dom.findAll('div', class_='flex-auto min-width-0 p-2 pr-3 pr-md-2')\n",
    "        \n",
    "        #for every issue extract important informations\n",
    "        page_tags = []\n",
    "        \n",
    "        for each in all:\n",
    "            #store tags for every issue\n",
    "            tags=[]\n",
    "            is_Bug = False\n",
    "            \n",
    "            for counter,temp in enumerate(each.find_all('a')):\n",
    "                tag = str(temp.string)\n",
    "                if tag == \"Bug\":\n",
    "                    is_Bug = True\n",
    "                tags.append(tag)\n",
    "            \n",
    "            #if it is a Bug check for stack trace\n",
    "            if(is_Bug == True):\n",
    "                next_url = base_url + each.find('a')['href']\n",
    "                find_stack_trace(next_url,tags)\n",
    "            \n",
    "            \n",
    "            #store all issue's tags in a global struct \n",
    "            page_tags.append(tags)\n",
    "            \n",
    "        #write page issues to file\n",
    "        write_page_to_file(page_tags)\n",
    "    \n",
    "    #visit next page if exists\n",
    "    end = dom.findAll('a',class_='next_page')\n",
    "    if end==[]:\n",
    "        break\n",
    "    next_url = base_url + end[1]['href']\n",
    "    response = requests.get(next_url)"
   ]
  },
  {
   "cell_type": "code",
   "execution_count": null,
   "metadata": {},
   "outputs": [],
   "source": []
  }
 ],
 "metadata": {
  "kernelspec": {
   "display_name": "Python [conda env:py38] *",
   "language": "python",
   "name": "conda-env-py38-py"
  },
  "language_info": {
   "codemirror_mode": {
    "name": "ipython",
    "version": 3
   },
   "file_extension": ".py",
   "mimetype": "text/x-python",
   "name": "python",
   "nbconvert_exporter": "python",
   "pygments_lexer": "ipython3",
   "version": "3.8.5"
  }
 },
 "nbformat": 4,
 "nbformat_minor": 4
}
