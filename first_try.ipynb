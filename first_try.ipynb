{
 "cells": [
  {
   "cell_type": "code",
   "execution_count": null,
   "metadata": {},
   "outputs": [],
   "source": [
    "from sklearn.ensemble import RandomForestClassifier\n",
    "from sklearn.model_selection import train_test_split\n",
    "from sklearn.metrics import accuracy_score\n",
    "import pandas as pd\n",
    "import json"
   ]
  },
  {
   "cell_type": "code",
   "execution_count": null,
   "metadata": {},
   "outputs": [],
   "source": [
    "#READ DATA\n",
    "f_assigned = open('datasets/v02/mozilla/assigned_to.json','r')\n",
    "data_assigned = json.load(f_assigned)\n",
    "\n",
    "f_bugstatus = open('datasets/v02/mozilla/bug_status.json','r')\n",
    "data_status = json.load(f_bugstatus)\n",
    "\n",
    "#f_cc = open('datasets/v02/mozilla/cc.json','r')\n",
    "f_component = open('datasets/v02/mozilla/component.json','r')\n",
    "data_component = json.load(f_component)\n",
    "\n",
    "f_os = open('datasets/v02/mozilla/op_sys.json','r')\n",
    "data_os = json.load(f_os)\n",
    "\n",
    "f_priority = open('datasets/v02/mozilla/priority.json','r')\n",
    "data_priority = json.load(f_priority)\n",
    "\n",
    "f_product = open('datasets/v02/mozilla/product.json','r')\n",
    "data_product = json.load(f_product)\n",
    "\n",
    "#f_reports = open('datasets/v02/mozilla/reports.json','r')\n",
    "f_resolution = open('datasets/v02/mozilla/resolution.json','r')\n",
    "data_resolution = json.load(f_resolution)\n",
    "\n",
    "f_severity = open('datasets/v02/mozilla/severity.json','r')\n",
    "data_severity = json.load(f_severity)\n",
    "\n",
    "#f_shortdesc = open('datasets/v02/mozilla/short_desc.json','r')\n",
    "f_version = open('datasets/v02/mozilla/version.json','r')\n",
    "data_version = json.load(f_version)\n"
   ]
  },
  {
   "cell_type": "code",
   "execution_count": null,
   "metadata": {},
   "outputs": [],
   "source": [
    "#arrays to sava the informations\n",
    "keys = []\n",
    "bugstatus = []\n",
    "component = []\n",
    "os = []\n",
    "priority = []\n",
    "product = []\n",
    "resolution = []\n",
    "severity = []\n",
    "version = []"
   ]
  },
  {
   "cell_type": "code",
   "execution_count": null,
   "metadata": {},
   "outputs": [],
   "source": [
    "#save keys,which have severity status\n",
    "for i in data_severity['severity']:\n",
    "    keys.append(i)\n",
    "print(len(keys))"
   ]
  },
  {
   "cell_type": "code",
   "execution_count": null,
   "metadata": {},
   "outputs": [],
   "source": [
    "#save informations only for keys\n",
    "for count, key in enumerate(keys):\n",
    "    component.append(data_component['component'][key][0]['what'])\n",
    "    os.append(data_os['op_sys'][key][0]['what'])\n",
    "    priority.append(data_priority['priority'][key][0]['what'])\n",
    "    product.append(data_product['product'][key][0]['what'])\n",
    "    resolution.append(data_resolution['resolution'][key][0]['what'])\n",
    "    severity.append(data_severity['severity'][key][0]['what'])\n",
    "    version.append(data_version['version'][key][0]['what'])\n"
   ]
  },
  {
   "cell_type": "code",
   "execution_count": null,
   "metadata": {},
   "outputs": [],
   "source": [
    "#make sure that every array has the same length.\n",
    "print(len(version) == len(severity) and len(severity) == len(resolution) and len(resolution)==len(product)\n",
    "     and len(product) == len(priority) and len(priority) == len(os) and len(os) == len(component))"
   ]
  },
  {
   "cell_type": "code",
   "execution_count": null,
   "metadata": {},
   "outputs": [],
   "source": [
    "#create a pandas dataframe with all the arrays as columns.\n",
    "data = pd.DataFrame({\n",
    "  'version':version[:],\n",
    "  'resolution':resolution[:],\n",
    "  'product':product[:],\n",
    "  'priority':priority[:], \n",
    "  'os':os[:],\n",
    "  'component':component[:],\n",
    "  'severity':severity[:]  \n",
    "})\n",
    "data.head()"
   ]
  },
  {
   "cell_type": "code",
   "execution_count": null,
   "metadata": {},
   "outputs": [],
   "source": [
    "#exclude resolution which hasnt any useful information\n",
    "data = data.drop('resolution',axis = 1)"
   ]
  },
  {
   "cell_type": "code",
   "execution_count": null,
   "metadata": {},
   "outputs": [],
   "source": [
    "#exclude all rows which have nan values\n",
    "index = data[data.isin(['']).any(axis=1)].index\n",
    "print(index)\n",
    "data.drop(index,inplace = True)"
   ]
  },
  {
   "cell_type": "code",
   "execution_count": null,
   "metadata": {},
   "outputs": [],
   "source": [
    "#transform categorical data to numerical\n",
    "data['priority'] = data['priority'].fillna(value='None')\n",
    "map_prio = {'priority':{'P1':5, 'P2':4,'P3':3,'P4':2,'P5':1,'None':0,'--':0}}\n",
    "map_sev = {'severity':{'blocker':6, 'critical':5,'major':4,'normal':3,'minor':2,'trivial':1,'enchancement':0}}\n",
    "data.replace(map_sev,inplace = True)\n",
    "data.replace(map_prio,inplace = True)\n",
    "data.head()"
   ]
  },
  {
   "cell_type": "code",
   "execution_count": null,
   "metadata": {},
   "outputs": [],
   "source": [
    "#for the rest data use one hot encoding\n",
    "data = pd.get_dummies(data, columns=['os'], prefix=['OS'])\n",
    "data = pd.get_dummies(data, columns=['component'], prefix=['component'])\n",
    "data = pd.get_dummies(data, columns=['product'],prefix=['product'])\n",
    "data = pd.get_dummies(data, columns=['version'],prefix=['version'])"
   ]
  },
  {
   "cell_type": "code",
   "execution_count": null,
   "metadata": {},
   "outputs": [],
   "source": [
    "#split on training and testing set\n",
    "X=data.drop('severity',axis=1)\n",
    "Y=data['priority']\n",
    "X_train,X_test,Y_train,Y_test = train_test_split(X,Y,test_size = 0.3)"
   ]
  },
  {
   "cell_type": "code",
   "execution_count": null,
   "metadata": {},
   "outputs": [],
   "source": [
    "#train the model\n",
    "clf = RandomForestClassifier(n_estimators = 15)\n",
    "clf.fit(X_train,Y_train)\n",
    "#predict on test set\n",
    "Y_pred = clf.predict(X_test)\n",
    "print(\"Accuracy:\", accuracy_score(Y_test,Y_pred))"
   ]
  }
 ],
 "metadata": {
  "kernelspec": {
   "display_name": "Python [conda env:py38] *",
   "language": "python",
   "name": "conda-env-py38-py"
  },
  "language_info": {
   "codemirror_mode": {
    "name": "ipython",
    "version": 3
   },
   "file_extension": ".py",
   "mimetype": "text/x-python",
   "name": "python",
   "nbconvert_exporter": "python",
   "pygments_lexer": "ipython3",
   "version": "3.8.5"
  }
 },
 "nbformat": 4,
 "nbformat_minor": 4
}
