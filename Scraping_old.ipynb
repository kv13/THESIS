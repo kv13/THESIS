{
 "cells": [
  {
   "cell_type": "code",
   "execution_count": 27,
   "metadata": {},
   "outputs": [],
   "source": [
    "#import libraries\n",
    "import os\n",
    "import csv\n",
    "import requests\n",
    "import re\n",
    "from pprint import pprint\n",
    "from github import Github\n",
    "from bs4 import BeautifulSoup"
   ]
  },
  {
   "cell_type": "code",
   "execution_count": 4,
   "metadata": {},
   "outputs": [],
   "source": [
    "#write to csv file function\n",
    "def write_page_to_file(page_tags):\n",
    "    file = open('data.csv','a+',newline='')\n",
    "    with file:\n",
    "        write = csv.writer(file,delimiter=',')\n",
    "        write.writerows(page_tags)"
   ]
  },
  {
   "cell_type": "code",
   "execution_count": 48,
   "metadata": {},
   "outputs": [],
   "source": [
    "#find stack traces function\n",
    "def find_stack_trace(url, tags):\n",
    "    response_bug = requests.get(next_url)\n",
    "    html_content_bug = response_bug.content\n",
    "    dom_bug = BeautifulSoup(html_content_bug,'html.parser')\n",
    "    temp = dom_bug.find('pre')\n",
    "    if(temp != [] and temp !=None):\n",
    "        if(temp.find('code')!=None):\n",
    "            tags.append(str(temp.find('code')))\n",
    "            print(temp.find('code'))"
   ]
  },
  {
   "cell_type": "code",
   "execution_count": 55,
   "metadata": {},
   "outputs": [],
   "source": [
    "def find_stack_trace_2(url,tags):\n",
    "    response_bug     = requests.get(next_url)\n",
    "    html_content_bug = response_bug.content\n",
    "    dom_bug          = BeautifulSoup(html_content_bug,'html.parser')\n",
    "    searched_word    = 'AndroidRuntime:'\n",
    "    results = dom_bug.body.find_all(string=re.compile('.*{0}.*'.format(searched_word)),recursive=True)\n",
    "    for content in results:\n",
    "        print(content)\n",
    "        print('FUCK OFF')\n",
    "    "
   ]
  },
  {
   "cell_type": "code",
   "execution_count": 56,
   "metadata": {},
   "outputs": [],
   "source": [
    "#search all closed issues.\n",
    "\n",
    "#initialize important url's\n",
    "base_url = \"https://github.com/\"\n",
    "query_url = f\"https://github.com/cgeo/cgeo/issues?page=1&q=is%3Aissue+is%3Aclosed\"\n",
    "\n",
    "#authorization in order to make more requests.\n",
    "token = os.getenv(\"GITHUB_TOKEN\")\n",
    "headers = {'Authorization': f'token {token}'}\n",
    "\n",
    "#make initial request\n",
    "response = requests.get(query_url, headers = headers)\n"
   ]
  },
  {
   "cell_type": "code",
   "execution_count": 57,
   "metadata": {},
   "outputs": [
    {
     "name": "stdout",
     "output_type": "stream",
     "text": [
      "02-28 23:18:51.730 17335 17335 E AndroidRuntime: FATAL EXCEPTION: main\n",
      "02-28 23:18:51.730 17335 17335 E AndroidRuntime: Process: cgeo.geocaching, PID: 17335\n",
      "02-28 23:18:51.730 17335 17335 E AndroidRuntime: java.lang.NullPointerException: Attempt to read from field 'android.net.Uri cgeo.geocaching.storage.ContentStorage$FileInformation.uri' on a null object reference\n",
      "02-28 23:18:51.730 17335 17335 E AndroidRuntime: \tat cgeo.geocaching.maps.mapsforge.v6.RenderThemeHelper.getThemeFor(RenderThemeHelper.java:183)\n",
      "02-28 23:18:51.730 17335 17335 E AndroidRuntime: \tat cgeo.geocaching.maps.mapsforge.v6.RenderThemeHelper.reapplyMapTheme(RenderThemeHelper.java:134)\n",
      "02-28 23:18:51.730 17335 17335 E AndroidRuntime: \tat cgeo.geocaching.maps.mapsforge.v6.NewMap.switchTileLayer(NewMap.java:642)\n",
      "02-28 23:18:51.730 17335 17335 E AndroidRuntime: \tat cgeo.geocaching.maps.mapsforge.v6.NewMap.initializeLayers(NewMap.java:714)\n",
      "02-28 23:18:51.730 17335 17335 E AndroidRuntime: \tat cgeo.geocaching.maps.mapsforge.v6.NewMap.onStart(NewMap.java:709)\n",
      "02-28 23:18:51.730 17335 17335 E AndroidRuntime: \tat android.app.Instrumentation.callActivityOnStart(Instrumentation.java:1435)\n",
      "02-28 23:18:51.730 17335 17335 E AndroidRuntime: \tat android.app.Activity.performStart(Activity.java:8222)\n",
      "02-28 23:18:51.730 17335 17335 E AndroidRuntime: \tat android.app.ActivityThread.handleStartActivity(ActivityThread.java:3818)\n",
      "02-28 23:18:51.730 17335 17335 E AndroidRuntime: \tat android.app.servertransaction.TransactionExecutor.performLifecycleSequence(TransactionExecutor.java:221)\n",
      "02-28 23:18:51.730 17335 17335 E AndroidRuntime: \tat android.app.servertransaction.TransactionExecutor.cycleToPath(TransactionExecutor.java:201)\n",
      "02-28 23:18:51.730 17335 17335 E AndroidRuntime: \tat android.app.servertransaction.TransactionExecutor.executeLifecycleState(TransactionExecutor.java:173)\n",
      "02-28 23:18:51.730 17335 17335 E AndroidRuntime: \tat android.app.servertransaction.TransactionExecutor.execute(TransactionExecutor.java:97)\n",
      "02-28 23:18:51.730 17335 17335 E AndroidRuntime: \tat android.app.ActivityThread$H.handleMessage(ActivityThread.java:2307)\n",
      "02-28 23:18:51.730 17335 17335 E AndroidRuntime: \tat android.os.Handler.dispatchMessage(Handler.java:106)\n",
      "02-28 23:18:51.730 17335 17335 E AndroidRuntime: \tat android.os.Looper.loop(Looper.java:246)\n",
      "02-28 23:18:51.730 17335 17335 E AndroidRuntime: \tat android.app.ActivityThread.main(ActivityThread.java:8506)\n",
      "02-28 23:18:51.730 17335 17335 E AndroidRuntime: \tat java.lang.reflect.Method.invoke(Native Method)\n",
      "02-28 23:18:51.730 17335 17335 E AndroidRuntime: \tat com.android.internal.os.RuntimeInit$MethodAndArgsCaller.run(RuntimeInit.java:602)\n",
      "02-28 23:18:51.730 17335 17335 E AndroidRuntime: \tat com.android.internal.os.ZygoteInit.main(ZygoteInit.java:1130)\n",
      "02-28 23:18:51.730 17335 17335 W cgeo    : [main] UncaughtException\n",
      "02-28 23:18:51.730 17335 17335 W cgeo    : java.lang.NullPointerException: Attempt to read from field 'android.net.Uri cgeo.geocaching.storage.ContentStorage$FileInformation.uri' on a null object reference\n",
      "02-28 23:18:51.730 17335 17335 W cgeo    : \tat cgeo.geocaching.maps.mapsforge.v6.RenderThemeHelper.getThemeFor(RenderThemeHelper.java:183)\n",
      "02-28 23:18:51.730 17335 17335 W cgeo    : \tat cgeo.geocaching.maps.mapsforge.v6.RenderThemeHelper.reapplyMapTheme(RenderThemeHelper.java:134)\n",
      "02-28 23:18:51.730 17335 17335 W cgeo    : \tat cgeo.geocaching.maps.mapsforge.v6.NewMap.switchTileLayer(NewMap.java:642)\n",
      "02-28 23:18:51.730 17335 17335 W cgeo    : \tat cgeo.geocaching.maps.mapsforge.v6.NewMap.initializeLayers(NewMap.java:714)\n",
      "02-28 23:18:51.730 17335 17335 W cgeo    : \tat cgeo.geocaching.maps.mapsforge.v6.NewMap.onStart(NewMap.java:709)\n",
      "02-28 23:18:51.730 17335 17335 W cgeo    : \tat android.app.Instrumentation.callActivityOnStart(Instrumentation.java:1435)\n",
      "02-28 23:18:51.730 17335 17335 W cgeo    : \tat android.app.Activity.performStart(Activity.java:8222)\n",
      "02-28 23:18:51.730 17335 17335 W cgeo    : \tat android.app.ActivityThread.handleStartActivity(ActivityThread.java:3818)\n",
      "02-28 23:18:51.730 17335 17335 W cgeo    : \tat android.app.servertransaction.TransactionExecutor.performLifecycleSequence(TransactionExecutor.java:221)\n",
      "02-28 23:18:51.730 17335 17335 W cgeo    : \tat android.app.servertransaction.TransactionExecutor.cycleToPath(TransactionExecutor.java:201)\n",
      "02-28 23:18:51.730 17335 17335 W cgeo    : \tat android.app.servertransaction.TransactionExecutor.executeLifecycleState(TransactionExecutor.java:173)\n",
      "02-28 23:18:51.730 17335 17335 W cgeo    : \tat android.app.servertransaction.TransactionExecutor.execute(TransactionExecutor.java:97)\n",
      "02-28 23:18:51.730 17335 17335 W cgeo    : \tat android.app.ActivityThread$H.handleMessage(ActivityThread.java:2307)\n",
      "02-28 23:18:51.730 17335 17335 W cgeo    : \tat android.os.Handler.dispatchMessage(Handler.java:106)\n",
      "02-28 23:18:51.730 17335 17335 W cgeo    : \tat android.os.Looper.loop(Looper.java:246)\n",
      "02-28 23:18:51.730 17335 17335 W cgeo    : \tat android.app.ActivityThread.main(ActivityThread.java:8506)\n",
      "02-28 23:18:51.730 17335 17335 W cgeo    : \tat java.lang.reflect.Method.invoke(Native Method)\n",
      "02-28 23:18:51.730 17335 17335 W cgeo    : \tat com.android.internal.os.RuntimeInit$MethodAndArgsCaller.run(RuntimeInit.java:602)\n",
      "02-28 23:18:51.730 17335 17335 W cgeo    : \tat com.android.internal.os.ZygoteInit.main(ZygoteInit.java:1130)\n",
      "\n",
      "FUCK OFF\n"
     ]
    }
   ],
   "source": [
    "#loop through all pages\n",
    "while True:\n",
    "    response_code = response.status_code\n",
    "    if response_code != 200:\n",
    "        raise Exception(\"Error Occured\")\n",
    "    else:\n",
    "        html_content = response.content\n",
    "        dom = BeautifulSoup(html_content,'html.parser')\n",
    "        \n",
    "        #find all issues in every page\n",
    "        all = dom.findAll('div', class_='flex-auto min-width-0 p-2 pr-3 pr-md-2')\n",
    "        \n",
    "        #for every issue extract important informations\n",
    "        page_tags = []\n",
    "        \n",
    "        for each in all:\n",
    "            #store tags for every issue\n",
    "            tags=[]\n",
    "            is_Bug = False\n",
    "            \n",
    "            for counter,temp in enumerate(each.find_all('a')):\n",
    "                tag = str(temp.string)\n",
    "                if tag == \"Bug\":\n",
    "                    is_Bug = True\n",
    "                tags.append(tag)\n",
    "            \n",
    "            #if it is a Bug check for stack trace\n",
    "            if(is_Bug == True):\n",
    "                next_url = base_url + each.find('a')['href']\n",
    "                find_stack_trace_2(next_url,tags)\n",
    "            \n",
    "            if(is_Bug == True):\n",
    "                break\n",
    "                \n",
    "            \n",
    "            #store all issue's tags in a global struct \n",
    "            page_tags.append(tags)\n",
    "            \n",
    "        #write page issues to file\n",
    "        write_page_to_file(page_tags)\n",
    "    \n",
    "    #visit next page if exists\n",
    "    end = dom.findAll('a',class_='next_page')\n",
    "    break\n",
    "    if end==[]:\n",
    "        break\n",
    "    next_url = base_url + end[1]['href']\n",
    "    response = requests.get(next_url)"
   ]
  },
  {
   "cell_type": "code",
   "execution_count": null,
   "metadata": {},
   "outputs": [],
   "source": [
    "# more generic how to find the stack trace\n",
    "# export in json\n",
    "# for every issue take also and the description\n",
    "# take who closed the issue.===>This person possibly solve it to\n",
    "########################################################################\n",
    "# find total number of stack traces, find the total files\n",
    "# ftiaksw parametrika diavazontas tis teleies.\n",
    "# find for each file in how many stack traces appears.\n",
    "#-----------------------------------------------------------------------\n",
    "# predict tags in open issues\n",
    "# from stack traces take the file which the bug occured\n",
    "# make knowledge graph.?!later."
   ]
  }
 ],
 "metadata": {
  "kernelspec": {
   "display_name": "Python [conda env:py38] *",
   "language": "python",
   "name": "conda-env-py38-py"
  },
  "language_info": {
   "codemirror_mode": {
    "name": "ipython",
    "version": 3
   },
   "file_extension": ".py",
   "mimetype": "text/x-python",
   "name": "python",
   "nbconvert_exporter": "python",
   "pygments_lexer": "ipython3",
   "version": "3.8.5"
  }
 },
 "nbformat": 4,
 "nbformat_minor": 4
}
