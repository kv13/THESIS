{
 "cells": [
  {
   "cell_type": "code",
   "execution_count": 1,
   "metadata": {},
   "outputs": [],
   "source": [
    "#word embeddings implementation using gensim library."
   ]
  },
  {
   "cell_type": "code",
   "execution_count": 2,
   "metadata": {},
   "outputs": [],
   "source": [
    "import os\n",
    "import json\n",
    "import string\n",
    "import gensim"
   ]
  },
  {
   "cell_type": "code",
   "execution_count": 3,
   "metadata": {},
   "outputs": [],
   "source": [
    "def clean_data(description):\n",
    "    #define translator to translate punctuation to white space\n",
    "    translator = str.maketrans(string.punctuation, ' '*len(string.punctuation))\n",
    "    \n",
    "    #join all lines into one sentence and split on whitespace\n",
    "    sentence     = ' '.join(description)\n",
    "    #translate punctuation\n",
    "    new_sentence = sentence.translate(translator)\n",
    "    words = new_sentence.split()\n",
    "    \n",
    "    all_stopwords = gensim.parsing.preprocessing.STOPWORDS\n",
    "    words_sw = [w.lower() for w in words if not w.lower() in all_stopwords]\n",
    "    \n",
    "    return words_sw"
   ]
  },
  {
   "cell_type": "code",
   "execution_count": 4,
   "metadata": {},
   "outputs": [],
   "source": [
    "dir_path  = '/home/kostas/Documents/thesis/data'\n",
    "init_flag = 1"
   ]
  },
  {
   "cell_type": "code",
   "execution_count": 6,
   "metadata": {},
   "outputs": [],
   "source": [
    "for fname in os.listdir(dir_path):\n",
    "    with open (os.path.join(dir_path,fname)) as json_file:\n",
    "        #print(os.path.join(dir_path,fname))\n",
    "        data = json.load(json_file)\n",
    "        sentences = []\n",
    "        for p in data:\n",
    "            issue_desc = p['description']\n",
    "            #print(issue_desc)\n",
    "            desc_words = clean_data(issue_desc)\n",
    "            sentences.append(desc_words)\n",
    "        \n",
    "        #print(\"###############################\")\n",
    "        #print(sentences)\n",
    "        #print(\"\\n\")\n",
    "        if init_flag == 1:\n",
    "            model = gensim.models.Word2Vec(sentences,min_count=1)\n",
    "            init_flag = 0\n",
    "        else:\n",
    "            model.build_vocab(sentences, update=True)\n",
    "            model.train(sentences,total_examples=model.corpus_count,epochs=model.epochs)"
   ]
  },
  {
   "cell_type": "code",
   "execution_count": 170,
   "metadata": {},
   "outputs": [
    {
     "name": "stdout",
     "output_type": "stream",
     "text": [
      "[-0.00423302 -0.00079687 -0.00512984 -0.00243986 -0.00137223  0.00125403\n",
      "  0.00121018 -0.00325447 -0.00336852  0.00528723 -0.0014529   0.00361178\n",
      " -0.00215342  0.00193522 -0.0022342  -0.0043544   0.00030013 -0.00287492\n",
      " -0.00325984 -0.00355868  0.00260541 -0.00150534  0.00357794  0.00273936\n",
      " -0.00089234 -0.00259764 -0.00420463  0.00366522  0.00300052 -0.00442112\n",
      " -0.00305562 -0.00419758  0.0009843  -0.00342555 -0.00384696 -0.00351611\n",
      "  0.00192585  0.00020241  0.00271736  0.00495996 -0.00556372 -0.00185834\n",
      "  0.00268637 -0.00143563 -0.0011144  -0.00470667 -0.00261805  0.0019965\n",
      " -0.0021816   0.00219043  0.00321809 -0.00396612 -0.00201396  0.00224706\n",
      " -0.00397512 -0.00261323 -0.00496098 -0.00125694 -0.00567517  0.0017578\n",
      " -0.00047089 -0.00074106 -0.00128205  0.00427277 -0.00578082  0.00144548\n",
      "  0.00100099  0.00434347 -0.00084113 -0.00103483 -0.00253726 -0.00372132\n",
      "  0.00370533  0.00426472 -0.00090229  0.00451026 -0.00431132 -0.00335443\n",
      " -0.00408549 -0.0040042   0.0014456   0.00198849 -0.0050136   0.00400887\n",
      " -0.00201617 -0.00040892  0.00378059  0.00418794 -0.00121389 -0.00014828\n",
      " -0.00109883 -0.00491385 -0.00088976 -0.00262246 -0.00302377 -0.00326644\n",
      " -0.00403298  0.00276024 -0.00118231  0.00124088]\n"
     ]
    }
   ],
   "source": [
    "print(model.wv['presentorientation'])"
   ]
  },
  {
   "cell_type": "code",
   "execution_count": null,
   "metadata": {},
   "outputs": [],
   "source": []
  }
 ],
 "metadata": {
  "kernelspec": {
   "display_name": "Python 3",
   "language": "python",
   "name": "python3"
  },
  "language_info": {
   "codemirror_mode": {
    "name": "ipython",
    "version": 3
   },
   "file_extension": ".py",
   "mimetype": "text/x-python",
   "name": "python",
   "nbconvert_exporter": "python",
   "pygments_lexer": "ipython3",
   "version": "3.8.5"
  }
 },
 "nbformat": 4,
 "nbformat_minor": 4
}
