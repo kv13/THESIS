{
 "cells": [
  {
   "cell_type": "code",
   "execution_count": 1,
   "id": "requested-colonial",
   "metadata": {},
   "outputs": [],
   "source": [
    "import os\n",
    "import re\n",
    "import json"
   ]
  },
  {
   "cell_type": "code",
   "execution_count": 2,
   "id": "handled-shark",
   "metadata": {},
   "outputs": [],
   "source": [
    "dir_path       = '/home/kostas/Documents/thesis/data_1'\n",
    "filenames_dict = {}"
   ]
  },
  {
   "cell_type": "code",
   "execution_count": 3,
   "id": "mechanical-hybrid",
   "metadata": {},
   "outputs": [],
   "source": [
    "def find_filename(value):\n",
    "    filename = \"\"\n",
    "    words    = value.split(\"(\")\n",
    "    if len(words)>=2:\n",
    "        parts    = words[0].split(\".\")\n",
    "        filename = \".\".join(parts[0:-1])\n",
    "    \n",
    "    return filename"
   ]
  },
  {
   "cell_type": "code",
   "execution_count": 4,
   "id": "metropolitan-night",
   "metadata": {},
   "outputs": [],
   "source": [
    "def clean_stack_trace(stack_trace):\n",
    "    to_find = re.compile(\"[|,|<|>]|/|\\|=\")\n",
    "    clean_stack_trace = []\n",
    "    \n",
    "    temp_stack = stack_trace.split(\" at \")[1:]\n",
    "    \n",
    "    for func in temp_stack:\n",
    "        temp      = func.find(')')\n",
    "        temp_file = func[0:temp]\n",
    "        \n",
    "        match_obj = to_find.search(temp_file)\n",
    "        if match_obj == None:\n",
    "            clean_stack_trace.append(find_filename(temp_file))\n",
    "        \n",
    "        \n",
    "        \n",
    "    return clean_stack_trace"
   ]
  },
  {
   "cell_type": "code",
   "execution_count": null,
   "id": "lesbian-russia",
   "metadata": {},
   "outputs": [],
   "source": [
    "for fname in os.listdir(dir_path):\n",
    "    with open(os.path.join(dir_path,fname)) as json_file:\n",
    "        \n",
    "        #load data in json format\n",
    "        data = json.load(json_file)\n",
    "        \n",
    "        print(\"reading the file:\",fname,\"\\n\")\n",
    "        \n",
    "        for temp,p in enumerate(data):\n",
    "            temp_stack_trace = p['stack_trace']\n",
    "            \n",
    "            if temp_stack_trace != []:\n",
    "                stack_trace = clean_stack_trace(temp_stack_trace[0])\n",
    "                \n",
    "                #debugging\n",
    "                print(\"++++++++++++++++++++++++++++++++++++++++++++++++++++++\\n\\n\\n\\n\")\n",
    "                print(\"working on file number:\",temp,\"\\n\")\n",
    "                for i in stack_trace:\n",
    "                    print(i,\"\\n\")\n",
    "                \n",
    "                for count,value in enumerate(stack_trace):\n",
    "                    filename = value\n",
    "                    \n",
    "                    if filename == \"\":\n",
    "                        continue\n",
    "                    \n",
    "                    if filename in filenames_dict:\n",
    "                        \n",
    "                        #find next file if exists\n",
    "                        next_filename = \"\"\n",
    "                        if count+1<len(stack_trace):\n",
    "                            next_filename = stack_trace[count+1]\n",
    "                        if next_filename != \"\":\n",
    "                            if next_filename not in filenames_dict[filename]:\n",
    "                                filenames_dict[filename].append(next_filename)\n",
    "                    \n",
    "                    #file doesn't exists on the dictionary\n",
    "                    else:\n",
    "                        \n",
    "                        #find next file if exists\n",
    "                        next_filename = \"\"\n",
    "                        \n",
    "                        if count+1<len(stack_trace):\n",
    "                            next_filename = stack_trace[count+1]\n",
    "                            \n",
    "                        if next_filename !=\"\":\n",
    "                            filenames_dict[filename] = [next_filename]"
   ]
  },
  {
   "cell_type": "code",
   "execution_count": null,
   "id": "addressed-sociology",
   "metadata": {},
   "outputs": [],
   "source": [
    "print(filenames_dict)"
   ]
  },
  {
   "cell_type": "code",
   "execution_count": null,
   "id": "ongoing-steam",
   "metadata": {},
   "outputs": [],
   "source": [
    "#find the average occurance rate.\n",
    "total_number = 0\n",
    "counter      = 0\n",
    "max_occur    = -1\n",
    "for key in filenames_dict:\n",
    "    \n",
    "    counter = counter + 1\n",
    "    total_number = total_number + len(filenames_dict[key])\n",
    "    if len(filenames_dict[key]) > max_occur:\n",
    "        max_occur = len(filenames_dict[key])\n",
    "    \n",
    "    #some prints for debugging purposes\n",
    "    print(\"filename:\",key)#,\"connects with:\",len(filenames_dict[key]),filenames_dict[key])\n",
    "    #print(\"\\n\")\n",
    "\n"
   ]
  },
  {
   "cell_type": "code",
   "execution_count": null,
   "id": "cellular-links",
   "metadata": {},
   "outputs": [],
   "source": [
    "print(\"the mean occurance rate is\",total_number/counter)\n",
    "print(\"number of different files\",counter)\n",
    "print(\"maximum occurance frequensy\",max_occur)"
   ]
  }
 ],
 "metadata": {
  "kernelspec": {
   "display_name": "Python [conda env:py38] *",
   "language": "python",
   "name": "conda-env-py38-py"
  },
  "language_info": {
   "codemirror_mode": {
    "name": "ipython",
    "version": 3
   },
   "file_extension": ".py",
   "mimetype": "text/x-python",
   "name": "python",
   "nbconvert_exporter": "python",
   "pygments_lexer": "ipython3",
   "version": "3.8.5"
  }
 },
 "nbformat": 4,
 "nbformat_minor": 5
}
